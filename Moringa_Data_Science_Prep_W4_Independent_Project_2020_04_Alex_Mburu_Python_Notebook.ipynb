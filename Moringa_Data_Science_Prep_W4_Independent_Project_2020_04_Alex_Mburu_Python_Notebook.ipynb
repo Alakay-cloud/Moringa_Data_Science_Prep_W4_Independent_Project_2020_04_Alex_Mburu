{
  "nbformat": 4,
  "nbformat_minor": 0,
  "metadata": {
    "colab": {
      "name": "Moringa_Data_Science_Prep_W4_Independent_Project_2020_04_Alex_Mburu_Python_Notebook.ipynb",
      "provenance": [],
      "collapsed_sections": [],
      "toc_visible": true,
      "authorship_tag": "ABX9TyNvmNXkD6mue30bbnoxj/tL",
      "include_colab_link": true
    },
    "kernelspec": {
      "name": "python3",
      "display_name": "Python 3"
    }
  },
  "cells": [
    {
      "cell_type": "markdown",
      "metadata": {
        "id": "view-in-github",
        "colab_type": "text"
      },
      "source": [
        "<a href=\"https://colab.research.google.com/github/Alakay-cloud/Moringa_Data_Science_Prep_W4_Independent_Project_2020_04_Alex_Mburu/blob/master/Moringa_Data_Science_Prep_W4_Independent_Project_2020_04_Alex_Mburu_Python_Notebook.ipynb\" target=\"_parent\"><img src=\"https://colab.research.google.com/assets/colab-badge.svg\" alt=\"Open In Colab\"/></a>"
      ]
    },
    {
      "cell_type": "markdown",
      "metadata": {
        "id": "sCA12l_bIX3X",
        "colab_type": "text"
      },
      "source": [
        "#Independent project\n",
        "\n",
        "\n",
        "In this weeks independent project, you will be working as a data scientist working for an electric car-sharing service company. You have been tasked to process stations data to understand electric car usage over time by solving for the following research question;\n",
        "\n",
        "\n",
        "Research Question\n",
        "\n",
        "Identify the most popular hour of the day for picking up a shared electric car (Bluecar) in the city of Paris over the month of April 2018.\n",
        "\n",
        "Bonus Questions (Optional)\n",
        "\n",
        "What is the most popular hour for returning cars?\n",
        "What station is the most popular?\n",
        "Overall?\n",
        "At the most popular picking hour?\n",
        "What postal code is the most popular for picking up Blue cars? Does the most popular station belong to that postal code?\n",
        "Overall?\n",
        "At the most popular picking hour?\n",
        "Do the results change if you consider Utilib and Utilib 1.4 instead of Blue cars? "
      ]
    },
    {
      "cell_type": "markdown",
      "metadata": {
        "id": "5VZ1XN3Hj00t",
        "colab_type": "text"
      },
      "source": [
        "# Importing our libraries"
      ]
    },
    {
      "cell_type": "code",
      "metadata": {
        "id": "4X6fYe-VKl0K",
        "colab_type": "code",
        "colab": {}
      },
      "source": [
        "# Importing libraries\n",
        "#\n",
        "import pandas as pd"
      ],
      "execution_count": 0,
      "outputs": []
    },
    {
      "cell_type": "markdown",
      "metadata": {
        "id": "BMcmoRcHKzsK",
        "colab_type": "text"
      },
      "source": [
        "# Importing our Csv files and creating our dataset.\n"
      ]
    },
    {
      "cell_type": "code",
      "metadata": {
        "id": "45NaSNT_KmGr",
        "colab_type": "code",
        "outputId": "5d57f126-03b0-4add-c0c8-752bbcb27479",
        "colab": {
          "base_uri": "https://localhost:8080/",
          "height": 434
        }
      },
      "source": [
        "#csv = 'Autolib_dataset(2).csv'\n",
        "df = pd.read_csv('Autolib_dataset.csv')\n",
        "df.head()"
      ],
      "execution_count": 0,
      "outputs": [
        {
          "output_type": "execute_result",
          "data": {
            "text/html": [
              "<div>\n",
              "<style scoped>\n",
              "    .dataframe tbody tr th:only-of-type {\n",
              "        vertical-align: middle;\n",
              "    }\n",
              "\n",
              "    .dataframe tbody tr th {\n",
              "        vertical-align: top;\n",
              "    }\n",
              "\n",
              "    .dataframe thead th {\n",
              "        text-align: right;\n",
              "    }\n",
              "</style>\n",
              "<table border=\"1\" class=\"dataframe\">\n",
              "  <thead>\n",
              "    <tr style=\"text-align: right;\">\n",
              "      <th></th>\n",
              "      <th>Address</th>\n",
              "      <th>Cars</th>\n",
              "      <th>Bluecar counter</th>\n",
              "      <th>Utilib counter</th>\n",
              "      <th>Utilib 1.4 counter</th>\n",
              "      <th>Charge Slots</th>\n",
              "      <th>Charging Status</th>\n",
              "      <th>City</th>\n",
              "      <th>Displayed comment</th>\n",
              "      <th>ID</th>\n",
              "      <th>Kind</th>\n",
              "      <th>Geo point</th>\n",
              "      <th>Postal code</th>\n",
              "      <th>Public name</th>\n",
              "      <th>Rental status</th>\n",
              "      <th>Scheduled at</th>\n",
              "      <th>Slots</th>\n",
              "      <th>Station type</th>\n",
              "      <th>Status</th>\n",
              "      <th>Subscription status</th>\n",
              "      <th>year</th>\n",
              "      <th>month</th>\n",
              "      <th>day</th>\n",
              "      <th>hour</th>\n",
              "      <th>minute</th>\n",
              "    </tr>\n",
              "  </thead>\n",
              "  <tbody>\n",
              "    <tr>\n",
              "      <th>0</th>\n",
              "      <td>2 Avenue de Suffren</td>\n",
              "      <td>0</td>\n",
              "      <td>0</td>\n",
              "      <td>0</td>\n",
              "      <td>0</td>\n",
              "      <td>0</td>\n",
              "      <td>nonexistent</td>\n",
              "      <td>Paris</td>\n",
              "      <td>NaN</td>\n",
              "      <td>paris-suffren-2</td>\n",
              "      <td>STATION</td>\n",
              "      <td>48.857, 2.2917</td>\n",
              "      <td>75015</td>\n",
              "      <td>Paris/Suffren/2</td>\n",
              "      <td>operational</td>\n",
              "      <td>NaN</td>\n",
              "      <td>2</td>\n",
              "      <td>station</td>\n",
              "      <td>ok</td>\n",
              "      <td>nonexistent</td>\n",
              "      <td>2018</td>\n",
              "      <td>4</td>\n",
              "      <td>8</td>\n",
              "      <td>11</td>\n",
              "      <td>43</td>\n",
              "    </tr>\n",
              "    <tr>\n",
              "      <th>1</th>\n",
              "      <td>145 Rue Raymond Losserand</td>\n",
              "      <td>6</td>\n",
              "      <td>6</td>\n",
              "      <td>0</td>\n",
              "      <td>0</td>\n",
              "      <td>0</td>\n",
              "      <td>operational</td>\n",
              "      <td>Paris</td>\n",
              "      <td>NaN</td>\n",
              "      <td>paris-raymondlosserand-145</td>\n",
              "      <td>STATION</td>\n",
              "      <td>48.83126, 2.313088</td>\n",
              "      <td>75014</td>\n",
              "      <td>Paris/Raymond Losserand/145</td>\n",
              "      <td>operational</td>\n",
              "      <td>NaN</td>\n",
              "      <td>0</td>\n",
              "      <td>station</td>\n",
              "      <td>ok</td>\n",
              "      <td>nonexistent</td>\n",
              "      <td>2018</td>\n",
              "      <td>4</td>\n",
              "      <td>6</td>\n",
              "      <td>7</td>\n",
              "      <td>24</td>\n",
              "    </tr>\n",
              "    <tr>\n",
              "      <th>2</th>\n",
              "      <td>2 Avenue John Fitzgerald Kennedy</td>\n",
              "      <td>3</td>\n",
              "      <td>3</td>\n",
              "      <td>0</td>\n",
              "      <td>2</td>\n",
              "      <td>0</td>\n",
              "      <td>operational</td>\n",
              "      <td>Le Bourget</td>\n",
              "      <td>NaN</td>\n",
              "      <td>lebourget-johnfitzgeraldkennedy-2</td>\n",
              "      <td>STATION</td>\n",
              "      <td>48.938103, 2.4286035</td>\n",
              "      <td>93350</td>\n",
              "      <td>Le Bourget/John Fitzgerald Kennedy/2</td>\n",
              "      <td>operational</td>\n",
              "      <td>NaN</td>\n",
              "      <td>1</td>\n",
              "      <td>station</td>\n",
              "      <td>ok</td>\n",
              "      <td>nonexistent</td>\n",
              "      <td>2018</td>\n",
              "      <td>4</td>\n",
              "      <td>3</td>\n",
              "      <td>20</td>\n",
              "      <td>14</td>\n",
              "    </tr>\n",
              "    <tr>\n",
              "      <th>3</th>\n",
              "      <td>51 Rue EugÃ¨ne OudinÃ©</td>\n",
              "      <td>3</td>\n",
              "      <td>3</td>\n",
              "      <td>1</td>\n",
              "      <td>0</td>\n",
              "      <td>1</td>\n",
              "      <td>operational</td>\n",
              "      <td>Paris</td>\n",
              "      <td>NaN</td>\n",
              "      <td>paris-eugeneoudine-51</td>\n",
              "      <td>STATION</td>\n",
              "      <td>48.8250327, 2.3725162</td>\n",
              "      <td>75013</td>\n",
              "      <td>Paris/EugÃ¨ne OudinÃ©/51</td>\n",
              "      <td>operational</td>\n",
              "      <td>NaN</td>\n",
              "      <td>2</td>\n",
              "      <td>station</td>\n",
              "      <td>ok</td>\n",
              "      <td>nonexistent</td>\n",
              "      <td>2018</td>\n",
              "      <td>4</td>\n",
              "      <td>4</td>\n",
              "      <td>4</td>\n",
              "      <td>37</td>\n",
              "    </tr>\n",
              "    <tr>\n",
              "      <th>4</th>\n",
              "      <td>6 avenue de la Porte de Champerret</td>\n",
              "      <td>3</td>\n",
              "      <td>3</td>\n",
              "      <td>0</td>\n",
              "      <td>0</td>\n",
              "      <td>0</td>\n",
              "      <td>nonexistent</td>\n",
              "      <td>Paris</td>\n",
              "      <td>NaN</td>\n",
              "      <td>paris-portedechamperret-6</td>\n",
              "      <td>PARKING</td>\n",
              "      <td>48.8862632, 2.2874511</td>\n",
              "      <td>75017</td>\n",
              "      <td>Paris/Porte de Champerret/6</td>\n",
              "      <td>operational</td>\n",
              "      <td>NaN</td>\n",
              "      <td>3</td>\n",
              "      <td>station</td>\n",
              "      <td>ok</td>\n",
              "      <td>nonexistent</td>\n",
              "      <td>2018</td>\n",
              "      <td>4</td>\n",
              "      <td>8</td>\n",
              "      <td>17</td>\n",
              "      <td>23</td>\n",
              "    </tr>\n",
              "  </tbody>\n",
              "</table>\n",
              "</div>"
            ],
            "text/plain": [
              "                              Address  Cars  Bluecar counter  ...  day  hour  minute\n",
              "0                 2 Avenue de Suffren     0                0  ...    8    11      43\n",
              "1           145 Rue Raymond Losserand     6                6  ...    6     7      24\n",
              "2    2 Avenue John Fitzgerald Kennedy     3                3  ...    3    20      14\n",
              "3              51 Rue EugÃ¨ne OudinÃ©     3                3  ...    4     4      37\n",
              "4  6 avenue de la Porte de Champerret     3                3  ...    8    17      23\n",
              "\n",
              "[5 rows x 25 columns]"
            ]
          },
          "metadata": {
            "tags": []
          },
          "execution_count": 69
        }
      ]
    },
    {
      "cell_type": "markdown",
      "metadata": {
        "id": "iuZoBOmDkMZx",
        "colab_type": "text"
      },
      "source": [
        "# View our data info\n"
      ]
    },
    {
      "cell_type": "code",
      "metadata": {
        "id": "l4KRJKZQKmRa",
        "colab_type": "code",
        "outputId": "8a95e71f-a8c0-4a91-9f7e-0e0f5def8d3e",
        "colab": {
          "base_uri": "https://localhost:8080/",
          "height": 554
        }
      },
      "source": [
        "# Getting information from our dataset.\n",
        "#\n",
        "df.info()"
      ],
      "execution_count": 0,
      "outputs": [
        {
          "output_type": "stream",
          "text": [
            "<class 'pandas.core.frame.DataFrame'>\n",
            "RangeIndex: 5000 entries, 0 to 4999\n",
            "Data columns (total 25 columns):\n",
            " #   Column               Non-Null Count  Dtype \n",
            "---  ------               --------------  ----- \n",
            " 0   Address              5000 non-null   object\n",
            " 1   Cars                 5000 non-null   int64 \n",
            " 2   Bluecar counter      5000 non-null   int64 \n",
            " 3   Utilib counter       5000 non-null   int64 \n",
            " 4   Utilib 1.4 counter   5000 non-null   int64 \n",
            " 5   Charge Slots         5000 non-null   int64 \n",
            " 6   Charging Status      5000 non-null   object\n",
            " 7   City                 5000 non-null   object\n",
            " 8   Displayed comment    111 non-null    object\n",
            " 9   ID                   5000 non-null   object\n",
            " 10  Kind                 5000 non-null   object\n",
            " 11  Geo point            5000 non-null   object\n",
            " 12  Postal code          5000 non-null   int64 \n",
            " 13  Public name          5000 non-null   object\n",
            " 14  Rental status        5000 non-null   object\n",
            " 15  Scheduled at         47 non-null     object\n",
            " 16  Slots                5000 non-null   int64 \n",
            " 17  Station type         5000 non-null   object\n",
            " 18  Status               5000 non-null   object\n",
            " 19  Subscription status  5000 non-null   object\n",
            " 20  year                 5000 non-null   int64 \n",
            " 21  month                5000 non-null   int64 \n",
            " 22  day                  5000 non-null   int64 \n",
            " 23  hour                 5000 non-null   int64 \n",
            " 24  minute               5000 non-null   int64 \n",
            "dtypes: int64(12), object(13)\n",
            "memory usage: 976.7+ KB\n"
          ],
          "name": "stdout"
        }
      ]
    },
    {
      "cell_type": "markdown",
      "metadata": {
        "id": "WiPgMEjSLNa1",
        "colab_type": "text"
      },
      "source": [
        "# Data Preparation/Cleaning"
      ]
    },
    {
      "cell_type": "markdown",
      "metadata": {
        "id": "Fh4RSr_gkhMf",
        "colab_type": "text"
      },
      "source": [
        "># 1.1 Validity"
      ]
    },
    {
      "cell_type": "code",
      "metadata": {
        "id": "vK5am3CxKmS_",
        "colab_type": "code",
        "colab": {}
      },
      "source": [
        "#Procedure 1\n",
        "# Data Cleaning Action: Droping the irrelevant Scheduled at column\n",
        "# Explanation: We are droping it since its not useful in our analysis.\n",
        "#\n",
        "df.drop(['Scheduled at', 'Subscription status', 'Cars', 'Geo point', 'Status'], axis=1, inplace=True)\n"
      ],
      "execution_count": 0,
      "outputs": []
    },
    {
      "cell_type": "code",
      "metadata": {
        "id": "pEJjJaNjhlaC",
        "colab_type": "code",
        "outputId": "c465f26a-405d-46e5-df93-35cbf8a3775a",
        "colab": {
          "base_uri": "https://localhost:8080/",
          "height": 758
        }
      },
      "source": [
        "df"
      ],
      "execution_count": 0,
      "outputs": [
        {
          "output_type": "execute_result",
          "data": {
            "text/html": [
              "<div>\n",
              "<style scoped>\n",
              "    .dataframe tbody tr th:only-of-type {\n",
              "        vertical-align: middle;\n",
              "    }\n",
              "\n",
              "    .dataframe tbody tr th {\n",
              "        vertical-align: top;\n",
              "    }\n",
              "\n",
              "    .dataframe thead th {\n",
              "        text-align: right;\n",
              "    }\n",
              "</style>\n",
              "<table border=\"1\" class=\"dataframe\">\n",
              "  <thead>\n",
              "    <tr style=\"text-align: right;\">\n",
              "      <th></th>\n",
              "      <th>Address</th>\n",
              "      <th>Bluecar counter</th>\n",
              "      <th>Utilib counter</th>\n",
              "      <th>Utilib 1.4 counter</th>\n",
              "      <th>Charge Slots</th>\n",
              "      <th>Charging Status</th>\n",
              "      <th>City</th>\n",
              "      <th>Displayed comment</th>\n",
              "      <th>ID</th>\n",
              "      <th>Kind</th>\n",
              "      <th>Postal code</th>\n",
              "      <th>Public name</th>\n",
              "      <th>Rental status</th>\n",
              "      <th>Slots</th>\n",
              "      <th>Station type</th>\n",
              "      <th>year</th>\n",
              "      <th>month</th>\n",
              "      <th>day</th>\n",
              "      <th>hour</th>\n",
              "      <th>minute</th>\n",
              "    </tr>\n",
              "  </thead>\n",
              "  <tbody>\n",
              "    <tr>\n",
              "      <th>0</th>\n",
              "      <td>2 Avenue de Suffren</td>\n",
              "      <td>0</td>\n",
              "      <td>0</td>\n",
              "      <td>0</td>\n",
              "      <td>0</td>\n",
              "      <td>nonexistent</td>\n",
              "      <td>Paris</td>\n",
              "      <td>NaN</td>\n",
              "      <td>paris-suffren-2</td>\n",
              "      <td>STATION</td>\n",
              "      <td>75015</td>\n",
              "      <td>Paris/Suffren/2</td>\n",
              "      <td>operational</td>\n",
              "      <td>2</td>\n",
              "      <td>station</td>\n",
              "      <td>2018</td>\n",
              "      <td>4</td>\n",
              "      <td>8</td>\n",
              "      <td>11</td>\n",
              "      <td>43</td>\n",
              "    </tr>\n",
              "    <tr>\n",
              "      <th>1</th>\n",
              "      <td>145 Rue Raymond Losserand</td>\n",
              "      <td>6</td>\n",
              "      <td>0</td>\n",
              "      <td>0</td>\n",
              "      <td>0</td>\n",
              "      <td>operational</td>\n",
              "      <td>Paris</td>\n",
              "      <td>NaN</td>\n",
              "      <td>paris-raymondlosserand-145</td>\n",
              "      <td>STATION</td>\n",
              "      <td>75014</td>\n",
              "      <td>Paris/Raymond Losserand/145</td>\n",
              "      <td>operational</td>\n",
              "      <td>0</td>\n",
              "      <td>station</td>\n",
              "      <td>2018</td>\n",
              "      <td>4</td>\n",
              "      <td>6</td>\n",
              "      <td>7</td>\n",
              "      <td>24</td>\n",
              "    </tr>\n",
              "    <tr>\n",
              "      <th>2</th>\n",
              "      <td>2 Avenue John Fitzgerald Kennedy</td>\n",
              "      <td>3</td>\n",
              "      <td>0</td>\n",
              "      <td>2</td>\n",
              "      <td>0</td>\n",
              "      <td>operational</td>\n",
              "      <td>Le Bourget</td>\n",
              "      <td>NaN</td>\n",
              "      <td>lebourget-johnfitzgeraldkennedy-2</td>\n",
              "      <td>STATION</td>\n",
              "      <td>93350</td>\n",
              "      <td>Le Bourget/John Fitzgerald Kennedy/2</td>\n",
              "      <td>operational</td>\n",
              "      <td>1</td>\n",
              "      <td>station</td>\n",
              "      <td>2018</td>\n",
              "      <td>4</td>\n",
              "      <td>3</td>\n",
              "      <td>20</td>\n",
              "      <td>14</td>\n",
              "    </tr>\n",
              "    <tr>\n",
              "      <th>3</th>\n",
              "      <td>51 Rue EugÃ¨ne OudinÃ©</td>\n",
              "      <td>3</td>\n",
              "      <td>1</td>\n",
              "      <td>0</td>\n",
              "      <td>1</td>\n",
              "      <td>operational</td>\n",
              "      <td>Paris</td>\n",
              "      <td>NaN</td>\n",
              "      <td>paris-eugeneoudine-51</td>\n",
              "      <td>STATION</td>\n",
              "      <td>75013</td>\n",
              "      <td>Paris/EugÃ¨ne OudinÃ©/51</td>\n",
              "      <td>operational</td>\n",
              "      <td>2</td>\n",
              "      <td>station</td>\n",
              "      <td>2018</td>\n",
              "      <td>4</td>\n",
              "      <td>4</td>\n",
              "      <td>4</td>\n",
              "      <td>37</td>\n",
              "    </tr>\n",
              "    <tr>\n",
              "      <th>4</th>\n",
              "      <td>6 avenue de la Porte de Champerret</td>\n",
              "      <td>3</td>\n",
              "      <td>0</td>\n",
              "      <td>0</td>\n",
              "      <td>0</td>\n",
              "      <td>nonexistent</td>\n",
              "      <td>Paris</td>\n",
              "      <td>NaN</td>\n",
              "      <td>paris-portedechamperret-6</td>\n",
              "      <td>PARKING</td>\n",
              "      <td>75017</td>\n",
              "      <td>Paris/Porte de Champerret/6</td>\n",
              "      <td>operational</td>\n",
              "      <td>3</td>\n",
              "      <td>station</td>\n",
              "      <td>2018</td>\n",
              "      <td>4</td>\n",
              "      <td>8</td>\n",
              "      <td>17</td>\n",
              "      <td>23</td>\n",
              "    </tr>\n",
              "    <tr>\n",
              "      <th>...</th>\n",
              "      <td>...</td>\n",
              "      <td>...</td>\n",
              "      <td>...</td>\n",
              "      <td>...</td>\n",
              "      <td>...</td>\n",
              "      <td>...</td>\n",
              "      <td>...</td>\n",
              "      <td>...</td>\n",
              "      <td>...</td>\n",
              "      <td>...</td>\n",
              "      <td>...</td>\n",
              "      <td>...</td>\n",
              "      <td>...</td>\n",
              "      <td>...</td>\n",
              "      <td>...</td>\n",
              "      <td>...</td>\n",
              "      <td>...</td>\n",
              "      <td>...</td>\n",
              "      <td>...</td>\n",
              "      <td>...</td>\n",
              "    </tr>\n",
              "    <tr>\n",
              "      <th>4995</th>\n",
              "      <td>8 avenue MÃ©nelotte</td>\n",
              "      <td>2</td>\n",
              "      <td>0</td>\n",
              "      <td>0</td>\n",
              "      <td>0</td>\n",
              "      <td>nonexistent</td>\n",
              "      <td>Colombes</td>\n",
              "      <td>NaN</td>\n",
              "      <td>colombes-menelotte-8</td>\n",
              "      <td>STATION</td>\n",
              "      <td>92700</td>\n",
              "      <td>Colombes/MÃ©nelotte/8</td>\n",
              "      <td>operational</td>\n",
              "      <td>3</td>\n",
              "      <td>station</td>\n",
              "      <td>2018</td>\n",
              "      <td>4</td>\n",
              "      <td>6</td>\n",
              "      <td>11</td>\n",
              "      <td>26</td>\n",
              "    </tr>\n",
              "    <tr>\n",
              "      <th>4996</th>\n",
              "      <td>37 rue de Dantzig</td>\n",
              "      <td>4</td>\n",
              "      <td>0</td>\n",
              "      <td>0</td>\n",
              "      <td>1</td>\n",
              "      <td>operational</td>\n",
              "      <td>Paris</td>\n",
              "      <td>NaN</td>\n",
              "      <td>paris-dantzig-37</td>\n",
              "      <td>STATION</td>\n",
              "      <td>75015</td>\n",
              "      <td>Paris/Dantzig/37</td>\n",
              "      <td>operational</td>\n",
              "      <td>2</td>\n",
              "      <td>station</td>\n",
              "      <td>2018</td>\n",
              "      <td>4</td>\n",
              "      <td>4</td>\n",
              "      <td>16</td>\n",
              "      <td>56</td>\n",
              "    </tr>\n",
              "    <tr>\n",
              "      <th>4997</th>\n",
              "      <td>142 rue du Bac</td>\n",
              "      <td>1</td>\n",
              "      <td>0</td>\n",
              "      <td>0</td>\n",
              "      <td>1</td>\n",
              "      <td>operational</td>\n",
              "      <td>Paris</td>\n",
              "      <td>NaN</td>\n",
              "      <td>paris-bac-142</td>\n",
              "      <td>STATION</td>\n",
              "      <td>75007</td>\n",
              "      <td>Paris/Bac/142</td>\n",
              "      <td>operational</td>\n",
              "      <td>4</td>\n",
              "      <td>station</td>\n",
              "      <td>2018</td>\n",
              "      <td>4</td>\n",
              "      <td>1</td>\n",
              "      <td>7</td>\n",
              "      <td>1</td>\n",
              "    </tr>\n",
              "    <tr>\n",
              "      <th>4998</th>\n",
              "      <td>2 avenue du Val de Fontenay</td>\n",
              "      <td>2</td>\n",
              "      <td>0</td>\n",
              "      <td>0</td>\n",
              "      <td>0</td>\n",
              "      <td>nonexistent</td>\n",
              "      <td>Fontenay-Sous-Bois</td>\n",
              "      <td>NaN</td>\n",
              "      <td>fontenaysousbois-valdefontenay-2</td>\n",
              "      <td>STATION</td>\n",
              "      <td>94120</td>\n",
              "      <td>Fontenay-Sous-Bois/Val de Fontenay/2</td>\n",
              "      <td>operational</td>\n",
              "      <td>3</td>\n",
              "      <td>station</td>\n",
              "      <td>2018</td>\n",
              "      <td>4</td>\n",
              "      <td>4</td>\n",
              "      <td>17</td>\n",
              "      <td>27</td>\n",
              "    </tr>\n",
              "    <tr>\n",
              "      <th>4999</th>\n",
              "      <td>5 Rue Henry Brisson</td>\n",
              "      <td>4</td>\n",
              "      <td>0</td>\n",
              "      <td>0</td>\n",
              "      <td>0</td>\n",
              "      <td>operational</td>\n",
              "      <td>Paris</td>\n",
              "      <td>NaN</td>\n",
              "      <td>paris-henrybrisson-5</td>\n",
              "      <td>STATION</td>\n",
              "      <td>75018</td>\n",
              "      <td>Paris/Henry Brisson/5</td>\n",
              "      <td>operational</td>\n",
              "      <td>0</td>\n",
              "      <td>station</td>\n",
              "      <td>2018</td>\n",
              "      <td>4</td>\n",
              "      <td>8</td>\n",
              "      <td>10</td>\n",
              "      <td>2</td>\n",
              "    </tr>\n",
              "  </tbody>\n",
              "</table>\n",
              "<p>5000 rows × 20 columns</p>\n",
              "</div>"
            ],
            "text/plain": [
              "                                 Address  Bluecar counter  ...  hour  minute\n",
              "0                    2 Avenue de Suffren                0  ...    11      43\n",
              "1              145 Rue Raymond Losserand                6  ...     7      24\n",
              "2       2 Avenue John Fitzgerald Kennedy                3  ...    20      14\n",
              "3                 51 Rue EugÃ¨ne OudinÃ©                3  ...     4      37\n",
              "4     6 avenue de la Porte de Champerret                3  ...    17      23\n",
              "...                                  ...              ...  ...   ...     ...\n",
              "4995                 8 avenue MÃ©nelotte                2  ...    11      26\n",
              "4996                   37 rue de Dantzig                4  ...    16      56\n",
              "4997                      142 rue du Bac                1  ...     7       1\n",
              "4998         2 avenue du Val de Fontenay                2  ...    17      27\n",
              "4999                 5 Rue Henry Brisson                4  ...    10       2\n",
              "\n",
              "[5000 rows x 20 columns]"
            ]
          },
          "metadata": {
            "tags": []
          },
          "execution_count": 72
        }
      ]
    },
    {
      "cell_type": "markdown",
      "metadata": {
        "id": "nX8FCqaAkmqQ",
        "colab_type": "text"
      },
      "source": [
        "># 1.2 Accuracy"
      ]
    },
    {
      "cell_type": "code",
      "metadata": {
        "id": "DEKnaa3GKmdY",
        "colab_type": "code",
        "outputId": "7914bed3-4279-41dd-b60b-6db6048138b0",
        "colab": {
          "base_uri": "https://localhost:8080/",
          "height": 370
        }
      },
      "source": [
        "# Procedure 2\n",
        "# Data Cleaning Action: Checking for null values in our dataset.\n",
        "# Explanation: This is to allows us to determin the columns that have null values.\n",
        "# \n",
        "df.isnull().sum()\n",
        "#"
      ],
      "execution_count": 0,
      "outputs": [
        {
          "output_type": "execute_result",
          "data": {
            "text/plain": [
              "Address                  0\n",
              "Bluecar counter          0\n",
              "Utilib counter           0\n",
              "Utilib 1.4 counter       0\n",
              "Charge Slots             0\n",
              "Charging Status          0\n",
              "City                     0\n",
              "Displayed comment     4889\n",
              "ID                       0\n",
              "Kind                     0\n",
              "Postal code              0\n",
              "Public name              0\n",
              "Rental status            0\n",
              "Slots                    0\n",
              "Station type             0\n",
              "year                     0\n",
              "month                    0\n",
              "day                      0\n",
              "hour                     0\n",
              "minute                   0\n",
              "dtype: int64"
            ]
          },
          "metadata": {
            "tags": []
          },
          "execution_count": 73
        }
      ]
    },
    {
      "cell_type": "markdown",
      "metadata": {
        "id": "ZPoIkYaGlQHR",
        "colab_type": "text"
      },
      "source": [
        "># 1.3 Completeness"
      ]
    },
    {
      "cell_type": "code",
      "metadata": {
        "id": "Z7l83oI_Kme_",
        "colab_type": "code",
        "outputId": "ceb37500-5b8f-4add-f86d-c288997be85b",
        "colab": {
          "base_uri": "https://localhost:8080/",
          "height": 34
        }
      },
      "source": [
        "# Procedure 8\n",
        "# Data Cleaning Action: Check for duplicate values.\n",
        "# Explanation: This is to allow us determine data that is duplicated.\n",
        "#\n",
        "df.duplicated().sum()\n",
        "\n",
        "# This shows that there are no duplicated values"
      ],
      "execution_count": 0,
      "outputs": [
        {
          "output_type": "execute_result",
          "data": {
            "text/plain": [
              "0"
            ]
          },
          "metadata": {
            "tags": []
          },
          "execution_count": 76
        }
      ]
    },
    {
      "cell_type": "markdown",
      "metadata": {
        "id": "X9LUzOKFl81J",
        "colab_type": "text"
      },
      "source": [
        "># 1.4 Consistency"
      ]
    },
    {
      "cell_type": "markdown",
      "metadata": {
        "id": "GHVKZk9Nl8x_",
        "colab_type": "text"
      },
      "source": [
        ""
      ]
    },
    {
      "cell_type": "code",
      "metadata": {
        "id": "KiY6UcdGlZNY",
        "colab_type": "code",
        "colab": {}
      },
      "source": [
        "# Data Cleaning Action: Droping the irrelevant Subscription status at column\n",
        "# Explanation: We are droping it has null values.\n",
        "#\n",
        "df.drop(['Displayed comment'], axis=1, inplace=True)\n",
        "#df.dropna(axis=1, how=\"all\")\n",
        "#"
      ],
      "execution_count": 0,
      "outputs": []
    },
    {
      "cell_type": "code",
      "metadata": {
        "id": "uVEL8toRlcGp",
        "colab_type": "code",
        "colab": {
          "base_uri": "https://localhost:8080/",
          "height": 741
        },
        "outputId": "1117f1a4-fcd8-4986-c619-092a388841b6"
      },
      "source": [
        "df"
      ],
      "execution_count": 164,
      "outputs": [
        {
          "output_type": "execute_result",
          "data": {
            "text/html": [
              "<div>\n",
              "<style scoped>\n",
              "    .dataframe tbody tr th:only-of-type {\n",
              "        vertical-align: middle;\n",
              "    }\n",
              "\n",
              "    .dataframe tbody tr th {\n",
              "        vertical-align: top;\n",
              "    }\n",
              "\n",
              "    .dataframe thead th {\n",
              "        text-align: right;\n",
              "    }\n",
              "</style>\n",
              "<table border=\"1\" class=\"dataframe\">\n",
              "  <thead>\n",
              "    <tr style=\"text-align: right;\">\n",
              "      <th></th>\n",
              "      <th>address</th>\n",
              "      <th>bluecar counter</th>\n",
              "      <th>utilib counter</th>\n",
              "      <th>utilib 1.4</th>\n",
              "      <th>charge slots</th>\n",
              "      <th>charging status</th>\n",
              "      <th>city</th>\n",
              "      <th>id</th>\n",
              "      <th>kind</th>\n",
              "      <th>postal code</th>\n",
              "      <th>public name</th>\n",
              "      <th>rental status</th>\n",
              "      <th>slots</th>\n",
              "      <th>station type</th>\n",
              "      <th>year</th>\n",
              "      <th>month</th>\n",
              "      <th>day</th>\n",
              "      <th>hour</th>\n",
              "      <th>minute</th>\n",
              "    </tr>\n",
              "  </thead>\n",
              "  <tbody>\n",
              "    <tr>\n",
              "      <th>0</th>\n",
              "      <td>2 Avenue de Suffren</td>\n",
              "      <td>0</td>\n",
              "      <td>0</td>\n",
              "      <td>0</td>\n",
              "      <td>0</td>\n",
              "      <td>nonexistent</td>\n",
              "      <td>Paris</td>\n",
              "      <td>paris-suffren-2</td>\n",
              "      <td>STATION</td>\n",
              "      <td>75015</td>\n",
              "      <td>Paris/Suffren/2</td>\n",
              "      <td>operational</td>\n",
              "      <td>2</td>\n",
              "      <td>station</td>\n",
              "      <td>2018</td>\n",
              "      <td>4</td>\n",
              "      <td>8</td>\n",
              "      <td>11</td>\n",
              "      <td>43</td>\n",
              "    </tr>\n",
              "    <tr>\n",
              "      <th>1</th>\n",
              "      <td>145 Rue Raymond Losserand</td>\n",
              "      <td>6</td>\n",
              "      <td>0</td>\n",
              "      <td>0</td>\n",
              "      <td>0</td>\n",
              "      <td>operational</td>\n",
              "      <td>Paris</td>\n",
              "      <td>paris-raymondlosserand-145</td>\n",
              "      <td>STATION</td>\n",
              "      <td>75014</td>\n",
              "      <td>Paris/Raymond Losserand/145</td>\n",
              "      <td>operational</td>\n",
              "      <td>0</td>\n",
              "      <td>station</td>\n",
              "      <td>2018</td>\n",
              "      <td>4</td>\n",
              "      <td>6</td>\n",
              "      <td>7</td>\n",
              "      <td>24</td>\n",
              "    </tr>\n",
              "    <tr>\n",
              "      <th>2</th>\n",
              "      <td>2 Avenue John Fitzgerald Kennedy</td>\n",
              "      <td>3</td>\n",
              "      <td>0</td>\n",
              "      <td>2</td>\n",
              "      <td>0</td>\n",
              "      <td>operational</td>\n",
              "      <td>Le Bourget</td>\n",
              "      <td>lebourget-johnfitzgeraldkennedy-2</td>\n",
              "      <td>STATION</td>\n",
              "      <td>93350</td>\n",
              "      <td>Le Bourget/John Fitzgerald Kennedy/2</td>\n",
              "      <td>operational</td>\n",
              "      <td>1</td>\n",
              "      <td>station</td>\n",
              "      <td>2018</td>\n",
              "      <td>4</td>\n",
              "      <td>3</td>\n",
              "      <td>20</td>\n",
              "      <td>14</td>\n",
              "    </tr>\n",
              "    <tr>\n",
              "      <th>3</th>\n",
              "      <td>51 Rue EugÃ¨ne OudinÃ©</td>\n",
              "      <td>3</td>\n",
              "      <td>1</td>\n",
              "      <td>0</td>\n",
              "      <td>1</td>\n",
              "      <td>operational</td>\n",
              "      <td>Paris</td>\n",
              "      <td>paris-eugeneoudine-51</td>\n",
              "      <td>STATION</td>\n",
              "      <td>75013</td>\n",
              "      <td>Paris/EugÃ¨ne OudinÃ©/51</td>\n",
              "      <td>operational</td>\n",
              "      <td>2</td>\n",
              "      <td>station</td>\n",
              "      <td>2018</td>\n",
              "      <td>4</td>\n",
              "      <td>4</td>\n",
              "      <td>4</td>\n",
              "      <td>37</td>\n",
              "    </tr>\n",
              "    <tr>\n",
              "      <th>4</th>\n",
              "      <td>6 avenue de la Porte de Champerret</td>\n",
              "      <td>3</td>\n",
              "      <td>0</td>\n",
              "      <td>0</td>\n",
              "      <td>0</td>\n",
              "      <td>nonexistent</td>\n",
              "      <td>Paris</td>\n",
              "      <td>paris-portedechamperret-6</td>\n",
              "      <td>PARKING</td>\n",
              "      <td>75017</td>\n",
              "      <td>Paris/Porte de Champerret/6</td>\n",
              "      <td>operational</td>\n",
              "      <td>3</td>\n",
              "      <td>station</td>\n",
              "      <td>2018</td>\n",
              "      <td>4</td>\n",
              "      <td>8</td>\n",
              "      <td>17</td>\n",
              "      <td>23</td>\n",
              "    </tr>\n",
              "    <tr>\n",
              "      <th>...</th>\n",
              "      <td>...</td>\n",
              "      <td>...</td>\n",
              "      <td>...</td>\n",
              "      <td>...</td>\n",
              "      <td>...</td>\n",
              "      <td>...</td>\n",
              "      <td>...</td>\n",
              "      <td>...</td>\n",
              "      <td>...</td>\n",
              "      <td>...</td>\n",
              "      <td>...</td>\n",
              "      <td>...</td>\n",
              "      <td>...</td>\n",
              "      <td>...</td>\n",
              "      <td>...</td>\n",
              "      <td>...</td>\n",
              "      <td>...</td>\n",
              "      <td>...</td>\n",
              "      <td>...</td>\n",
              "    </tr>\n",
              "    <tr>\n",
              "      <th>4995</th>\n",
              "      <td>8 avenue MÃ©nelotte</td>\n",
              "      <td>2</td>\n",
              "      <td>0</td>\n",
              "      <td>0</td>\n",
              "      <td>0</td>\n",
              "      <td>nonexistent</td>\n",
              "      <td>Colombes</td>\n",
              "      <td>colombes-menelotte-8</td>\n",
              "      <td>STATION</td>\n",
              "      <td>92700</td>\n",
              "      <td>Colombes/MÃ©nelotte/8</td>\n",
              "      <td>operational</td>\n",
              "      <td>3</td>\n",
              "      <td>station</td>\n",
              "      <td>2018</td>\n",
              "      <td>4</td>\n",
              "      <td>6</td>\n",
              "      <td>11</td>\n",
              "      <td>26</td>\n",
              "    </tr>\n",
              "    <tr>\n",
              "      <th>4996</th>\n",
              "      <td>37 rue de Dantzig</td>\n",
              "      <td>4</td>\n",
              "      <td>0</td>\n",
              "      <td>0</td>\n",
              "      <td>1</td>\n",
              "      <td>operational</td>\n",
              "      <td>Paris</td>\n",
              "      <td>paris-dantzig-37</td>\n",
              "      <td>STATION</td>\n",
              "      <td>75015</td>\n",
              "      <td>Paris/Dantzig/37</td>\n",
              "      <td>operational</td>\n",
              "      <td>2</td>\n",
              "      <td>station</td>\n",
              "      <td>2018</td>\n",
              "      <td>4</td>\n",
              "      <td>4</td>\n",
              "      <td>16</td>\n",
              "      <td>56</td>\n",
              "    </tr>\n",
              "    <tr>\n",
              "      <th>4997</th>\n",
              "      <td>142 rue du Bac</td>\n",
              "      <td>1</td>\n",
              "      <td>0</td>\n",
              "      <td>0</td>\n",
              "      <td>1</td>\n",
              "      <td>operational</td>\n",
              "      <td>Paris</td>\n",
              "      <td>paris-bac-142</td>\n",
              "      <td>STATION</td>\n",
              "      <td>75007</td>\n",
              "      <td>Paris/Bac/142</td>\n",
              "      <td>operational</td>\n",
              "      <td>4</td>\n",
              "      <td>station</td>\n",
              "      <td>2018</td>\n",
              "      <td>4</td>\n",
              "      <td>1</td>\n",
              "      <td>7</td>\n",
              "      <td>1</td>\n",
              "    </tr>\n",
              "    <tr>\n",
              "      <th>4998</th>\n",
              "      <td>2 avenue du Val de Fontenay</td>\n",
              "      <td>2</td>\n",
              "      <td>0</td>\n",
              "      <td>0</td>\n",
              "      <td>0</td>\n",
              "      <td>nonexistent</td>\n",
              "      <td>Fontenay-Sous-Bois</td>\n",
              "      <td>fontenaysousbois-valdefontenay-2</td>\n",
              "      <td>STATION</td>\n",
              "      <td>94120</td>\n",
              "      <td>Fontenay-Sous-Bois/Val de Fontenay/2</td>\n",
              "      <td>operational</td>\n",
              "      <td>3</td>\n",
              "      <td>station</td>\n",
              "      <td>2018</td>\n",
              "      <td>4</td>\n",
              "      <td>4</td>\n",
              "      <td>17</td>\n",
              "      <td>27</td>\n",
              "    </tr>\n",
              "    <tr>\n",
              "      <th>4999</th>\n",
              "      <td>5 Rue Henry Brisson</td>\n",
              "      <td>4</td>\n",
              "      <td>0</td>\n",
              "      <td>0</td>\n",
              "      <td>0</td>\n",
              "      <td>operational</td>\n",
              "      <td>Paris</td>\n",
              "      <td>paris-henrybrisson-5</td>\n",
              "      <td>STATION</td>\n",
              "      <td>75018</td>\n",
              "      <td>Paris/Henry Brisson/5</td>\n",
              "      <td>operational</td>\n",
              "      <td>0</td>\n",
              "      <td>station</td>\n",
              "      <td>2018</td>\n",
              "      <td>4</td>\n",
              "      <td>8</td>\n",
              "      <td>10</td>\n",
              "      <td>2</td>\n",
              "    </tr>\n",
              "  </tbody>\n",
              "</table>\n",
              "<p>5000 rows × 19 columns</p>\n",
              "</div>"
            ],
            "text/plain": [
              "                                 address  bluecar counter  ...  hour  minute\n",
              "0                    2 Avenue de Suffren                0  ...    11      43\n",
              "1              145 Rue Raymond Losserand                6  ...     7      24\n",
              "2       2 Avenue John Fitzgerald Kennedy                3  ...    20      14\n",
              "3                 51 Rue EugÃ¨ne OudinÃ©                3  ...     4      37\n",
              "4     6 avenue de la Porte de Champerret                3  ...    17      23\n",
              "...                                  ...              ...  ...   ...     ...\n",
              "4995                 8 avenue MÃ©nelotte                2  ...    11      26\n",
              "4996                   37 rue de Dantzig                4  ...    16      56\n",
              "4997                      142 rue du Bac                1  ...     7       1\n",
              "4998         2 avenue du Val de Fontenay                2  ...    17      27\n",
              "4999                 5 Rue Henry Brisson                4  ...    10       2\n",
              "\n",
              "[5000 rows x 19 columns]"
            ]
          },
          "metadata": {
            "tags": []
          },
          "execution_count": 164
        }
      ]
    },
    {
      "cell_type": "markdown",
      "metadata": {
        "id": "qK9KNQY6mHyR",
        "colab_type": "text"
      },
      "source": [
        "># 1.5 Uniformity"
      ]
    },
    {
      "cell_type": "code",
      "metadata": {
        "id": "bP4db0RWKmlE",
        "colab_type": "code",
        "outputId": "29f11780-ccd1-4bba-b488-1b1986753926",
        "colab": {
          "base_uri": "https://localhost:8080/",
          "height": 434
        }
      },
      "source": [
        "# Procedure 9\n",
        "# Data Cleaning Action: Converting column names to lowercase characters.\n",
        "# Explanation: This is to allow for a uniform columns in the dataframe.\n",
        "#\n",
        "df.columns = df.columns.str.rstrip().str.lower()\n",
        "df.head()"
      ],
      "execution_count": 0,
      "outputs": [
        {
          "output_type": "execute_result",
          "data": {
            "text/html": [
              "<div>\n",
              "<style scoped>\n",
              "    .dataframe tbody tr th:only-of-type {\n",
              "        vertical-align: middle;\n",
              "    }\n",
              "\n",
              "    .dataframe tbody tr th {\n",
              "        vertical-align: top;\n",
              "    }\n",
              "\n",
              "    .dataframe thead th {\n",
              "        text-align: right;\n",
              "    }\n",
              "</style>\n",
              "<table border=\"1\" class=\"dataframe\">\n",
              "  <thead>\n",
              "    <tr style=\"text-align: right;\">\n",
              "      <th></th>\n",
              "      <th>address</th>\n",
              "      <th>bluecar counter</th>\n",
              "      <th>utilib counter</th>\n",
              "      <th>utilib 1.4 counter</th>\n",
              "      <th>charge slots</th>\n",
              "      <th>charging status</th>\n",
              "      <th>city</th>\n",
              "      <th>id</th>\n",
              "      <th>kind</th>\n",
              "      <th>postal code</th>\n",
              "      <th>public name</th>\n",
              "      <th>rental status</th>\n",
              "      <th>slots</th>\n",
              "      <th>station type</th>\n",
              "      <th>year</th>\n",
              "      <th>month</th>\n",
              "      <th>day</th>\n",
              "      <th>hour</th>\n",
              "      <th>minute</th>\n",
              "    </tr>\n",
              "  </thead>\n",
              "  <tbody>\n",
              "    <tr>\n",
              "      <th>0</th>\n",
              "      <td>2 Avenue de Suffren</td>\n",
              "      <td>0</td>\n",
              "      <td>0</td>\n",
              "      <td>0</td>\n",
              "      <td>0</td>\n",
              "      <td>nonexistent</td>\n",
              "      <td>Paris</td>\n",
              "      <td>paris-suffren-2</td>\n",
              "      <td>STATION</td>\n",
              "      <td>75015</td>\n",
              "      <td>Paris/Suffren/2</td>\n",
              "      <td>operational</td>\n",
              "      <td>2</td>\n",
              "      <td>station</td>\n",
              "      <td>2018</td>\n",
              "      <td>4</td>\n",
              "      <td>8</td>\n",
              "      <td>11</td>\n",
              "      <td>43</td>\n",
              "    </tr>\n",
              "    <tr>\n",
              "      <th>1</th>\n",
              "      <td>145 Rue Raymond Losserand</td>\n",
              "      <td>6</td>\n",
              "      <td>0</td>\n",
              "      <td>0</td>\n",
              "      <td>0</td>\n",
              "      <td>operational</td>\n",
              "      <td>Paris</td>\n",
              "      <td>paris-raymondlosserand-145</td>\n",
              "      <td>STATION</td>\n",
              "      <td>75014</td>\n",
              "      <td>Paris/Raymond Losserand/145</td>\n",
              "      <td>operational</td>\n",
              "      <td>0</td>\n",
              "      <td>station</td>\n",
              "      <td>2018</td>\n",
              "      <td>4</td>\n",
              "      <td>6</td>\n",
              "      <td>7</td>\n",
              "      <td>24</td>\n",
              "    </tr>\n",
              "    <tr>\n",
              "      <th>2</th>\n",
              "      <td>2 Avenue John Fitzgerald Kennedy</td>\n",
              "      <td>3</td>\n",
              "      <td>0</td>\n",
              "      <td>2</td>\n",
              "      <td>0</td>\n",
              "      <td>operational</td>\n",
              "      <td>Le Bourget</td>\n",
              "      <td>lebourget-johnfitzgeraldkennedy-2</td>\n",
              "      <td>STATION</td>\n",
              "      <td>93350</td>\n",
              "      <td>Le Bourget/John Fitzgerald Kennedy/2</td>\n",
              "      <td>operational</td>\n",
              "      <td>1</td>\n",
              "      <td>station</td>\n",
              "      <td>2018</td>\n",
              "      <td>4</td>\n",
              "      <td>3</td>\n",
              "      <td>20</td>\n",
              "      <td>14</td>\n",
              "    </tr>\n",
              "    <tr>\n",
              "      <th>3</th>\n",
              "      <td>51 Rue EugÃ¨ne OudinÃ©</td>\n",
              "      <td>3</td>\n",
              "      <td>1</td>\n",
              "      <td>0</td>\n",
              "      <td>1</td>\n",
              "      <td>operational</td>\n",
              "      <td>Paris</td>\n",
              "      <td>paris-eugeneoudine-51</td>\n",
              "      <td>STATION</td>\n",
              "      <td>75013</td>\n",
              "      <td>Paris/EugÃ¨ne OudinÃ©/51</td>\n",
              "      <td>operational</td>\n",
              "      <td>2</td>\n",
              "      <td>station</td>\n",
              "      <td>2018</td>\n",
              "      <td>4</td>\n",
              "      <td>4</td>\n",
              "      <td>4</td>\n",
              "      <td>37</td>\n",
              "    </tr>\n",
              "    <tr>\n",
              "      <th>4</th>\n",
              "      <td>6 avenue de la Porte de Champerret</td>\n",
              "      <td>3</td>\n",
              "      <td>0</td>\n",
              "      <td>0</td>\n",
              "      <td>0</td>\n",
              "      <td>nonexistent</td>\n",
              "      <td>Paris</td>\n",
              "      <td>paris-portedechamperret-6</td>\n",
              "      <td>PARKING</td>\n",
              "      <td>75017</td>\n",
              "      <td>Paris/Porte de Champerret/6</td>\n",
              "      <td>operational</td>\n",
              "      <td>3</td>\n",
              "      <td>station</td>\n",
              "      <td>2018</td>\n",
              "      <td>4</td>\n",
              "      <td>8</td>\n",
              "      <td>17</td>\n",
              "      <td>23</td>\n",
              "    </tr>\n",
              "  </tbody>\n",
              "</table>\n",
              "</div>"
            ],
            "text/plain": [
              "                              address  bluecar counter  ...  hour  minute\n",
              "0                 2 Avenue de Suffren                0  ...    11      43\n",
              "1           145 Rue Raymond Losserand                6  ...     7      24\n",
              "2    2 Avenue John Fitzgerald Kennedy                3  ...    20      14\n",
              "3              51 Rue EugÃ¨ne OudinÃ©                3  ...     4      37\n",
              "4  6 avenue de la Porte de Champerret                3  ...    17      23\n",
              "\n",
              "[5 rows x 19 columns]"
            ]
          },
          "metadata": {
            "tags": []
          },
          "execution_count": 77
        }
      ]
    },
    {
      "cell_type": "code",
      "metadata": {
        "id": "Y55XyzbvKmp_",
        "colab_type": "code",
        "colab": {}
      },
      "source": [
        "# Procedure 1:\n",
        "# Data Cleaning Action: Converting row values to lowercase characters.\n",
        "# Explanation: This is to allow for rows to have uniform values which are in lowercase in the dataframe.\n",
        "#\n",
        "#df = df.astype(str).apply(lambda x: x.str.lower())\n",
        "#df.head(3)"
      ],
      "execution_count": 0,
      "outputs": []
    },
    {
      "cell_type": "code",
      "metadata": {
        "id": "7hAtbQfOi1j5",
        "colab_type": "code",
        "outputId": "c211dfcc-026f-4978-f973-35969f458cb0",
        "colab": {
          "base_uri": "https://localhost:8080/",
          "height": 101
        }
      },
      "source": [
        "df.rename(columns={'utilib 1.4 counter':'utilib 1.4'}, inplace=True)\n",
        "\n",
        "print(df.columns)"
      ],
      "execution_count": 0,
      "outputs": [
        {
          "output_type": "stream",
          "text": [
            "Index(['address', 'bluecar counter', 'utilib counter', 'utilib 1.4',\n",
            "       'charge slots', 'charging status', 'city', 'id', 'kind', 'postal code',\n",
            "       'public name', 'rental status', 'slots', 'station type', 'year',\n",
            "       'month', 'day', 'hour', 'minute'],\n",
            "      dtype='object')\n"
          ],
          "name": "stdout"
        }
      ]
    },
    {
      "cell_type": "markdown",
      "metadata": {
        "id": "fy1iMVzqOBbV",
        "colab_type": "text"
      },
      "source": [
        "# Exporting our clean csv file."
      ]
    },
    {
      "cell_type": "code",
      "metadata": {
        "id": "Tx7BijrpKmrj",
        "colab_type": "code",
        "colab": {}
      },
      "source": [
        "df.to_csv(\"autolib_clean.csv\")"
      ],
      "execution_count": 0,
      "outputs": []
    },
    {
      "cell_type": "markdown",
      "metadata": {
        "id": "QP5QvMRgkZq0",
        "colab_type": "text"
      },
      "source": [
        "# Analysis\n",
        "# Answering Questions\n"
      ]
    },
    {
      "cell_type": "markdown",
      "metadata": {
        "id": "lbHKtu2KBlfm",
        "colab_type": "text"
      },
      "source": [
        "#  *Using Bluecar counter*"
      ]
    },
    {
      "cell_type": "code",
      "metadata": {
        "id": "YbjrIvxBkXjL",
        "colab_type": "code",
        "colab": {
          "base_uri": "https://localhost:8080/",
          "height": 454
        },
        "outputId": "c4f84c3a-fe73-40c5-cea8-a954db3f4e82"
      },
      "source": [
        "#Question 1;\n",
        "#Identify the most popular hour of the day for picking up a shared electric car (Bluecar) in the city of Paris over the month of April 2018\n",
        "\n",
        "#popular_hr = df.groupby(['hour']).size().sort_values(ascending=False)\n",
        "#popular_hr\n",
        "x = df[(df['city']=='Paris') &\n",
        "    (df['month']==4) & (df['bluecar counter'] == 0)]\n",
        "popular_hr = x.groupby(['hour']).size().sort_values(ascending=False)\n",
        "popular_hr\n"
      ],
      "execution_count": 134,
      "outputs": [
        {
          "output_type": "execute_result",
          "data": {
            "text/plain": [
              "hour\n",
              "2     54\n",
              "21    52\n",
              "3     52\n",
              "16    50\n",
              "23    49\n",
              "8     49\n",
              "20    48\n",
              "14    48\n",
              "7     48\n",
              "4     44\n",
              "5     43\n",
              "6     43\n",
              "9     42\n",
              "0     42\n",
              "10    41\n",
              "1     41\n",
              "19    39\n",
              "17    38\n",
              "22    37\n",
              "11    37\n",
              "18    36\n",
              "13    34\n",
              "15    32\n",
              "12    30\n",
              "dtype: int64"
            ]
          },
          "metadata": {
            "tags": []
          },
          "execution_count": 134
        }
      ]
    },
    {
      "cell_type": "code",
      "metadata": {
        "id": "YGXjQHw6pd1c",
        "colab_type": "code",
        "colab": {
          "base_uri": "https://localhost:8080/",
          "height": 454
        },
        "outputId": "21232a10-e9ca-4bfe-fe4c-5a04d8c53041"
      },
      "source": [
        "#Question 2;\n",
        "#What is the most popular hour for returning cars?\n",
        "y = df[(df['slots'] == 0) & (df['bluecar counter'] > 0)]\n",
        "popular_hrcr = y.groupby(['hour']).size().sort_values(ascending=False)\n",
        "popular_hrcr"
      ],
      "execution_count": 96,
      "outputs": [
        {
          "output_type": "execute_result",
          "data": {
            "text/plain": [
              "hour\n",
              "6     63\n",
              "13    63\n",
              "5     62\n",
              "9     61\n",
              "7     61\n",
              "21    59\n",
              "12    59\n",
              "22    57\n",
              "19    56\n",
              "3     56\n",
              "8     55\n",
              "15    54\n",
              "11    53\n",
              "1     53\n",
              "0     53\n",
              "4     52\n",
              "2     52\n",
              "10    51\n",
              "20    51\n",
              "14    48\n",
              "17    48\n",
              "16    46\n",
              "18    44\n",
              "23    41\n",
              "dtype: int64"
            ]
          },
          "metadata": {
            "tags": []
          },
          "execution_count": 96
        }
      ]
    },
    {
      "cell_type": "code",
      "metadata": {
        "id": "th3-cOBG5-to",
        "colab_type": "code",
        "colab": {
          "base_uri": "https://localhost:8080/",
          "height": 67
        },
        "outputId": "e7c12954-6d0b-499f-ac0b-6854a8e262fd"
      },
      "source": [
        "#What station is the most popular?\n",
        "#Overall?\n",
        "#\n",
        "z = df[(df['kind'] == 'STATION') & (df['bluecar counter'] == 0)]\n",
        "popular_stat = z.groupby(['public name']).size().sort_values(ascending=False)\n",
        "popular_stat.head(1)"
      ],
      "execution_count": 143,
      "outputs": [
        {
          "output_type": "execute_result",
          "data": {
            "text/plain": [
              "public name\n",
              "Limeil-BrÃ©vannes/Lavoisier/12    8\n",
              "dtype: int64"
            ]
          },
          "metadata": {
            "tags": []
          },
          "execution_count": 143
        }
      ]
    },
    {
      "cell_type": "code",
      "metadata": {
        "id": "OR1R5OFY6fWA",
        "colab_type": "code",
        "colab": {
          "base_uri": "https://localhost:8080/",
          "height": 218
        },
        "outputId": "7c9446b9-7df9-41e4-e411-1d6ba67af656"
      },
      "source": [
        "#What station is the most popular?\n",
        "#at the most popular picking hour\n",
        "#\n",
        "y = z[(z['hour'] == 2)]\n",
        "b = y.groupby(['public name']).size().sort_values(ascending=False)\n",
        "b.head(10)"
      ],
      "execution_count": 144,
      "outputs": [
        {
          "output_type": "execute_result",
          "data": {
            "text/plain": [
              "public name\n",
              "Versailles/Bonne Aventure/68    1\n",
              "Paris/Commandant Lamy/2         1\n",
              "Paris/Grande ArmÃ©e/81          1\n",
              "Paris/Georges Mandel/42         1\n",
              "Paris/Friedland/42              1\n",
              "Paris/FranÃ§ois 1er/38          1\n",
              "Paris/Francois 1er/7            1\n",
              "Paris/Four/38                   1\n",
              "Paris/Fleurs/23                 1\n",
              "Paris/Dutuit/1                  1\n",
              "dtype: int64"
            ]
          },
          "metadata": {
            "tags": []
          },
          "execution_count": 144
        }
      ]
    },
    {
      "cell_type": "code",
      "metadata": {
        "id": "TYeJ57id8WBp",
        "colab_type": "code",
        "colab": {
          "base_uri": "https://localhost:8080/",
          "height": 67
        },
        "outputId": "ee8ff7bd-8759-400d-cc19-2247b0e1caf7"
      },
      "source": [
        "#What postal code is the most popular for picking up Blue cars? \n",
        "#Does the most popular station belong to that postal code?\n",
        "#Overall?\n",
        "x = df[(df['bluecar counter'] == 0 ) & (df['slots'] > 0)]\n",
        "pst = x.groupby('postal code').size().sort_values(ascending=False)\n",
        "pst.head(1)"
      ],
      "execution_count": 145,
      "outputs": [
        {
          "output_type": "execute_result",
          "data": {
            "text/plain": [
              "postal code\n",
              "75008    85\n",
              "dtype: int64"
            ]
          },
          "metadata": {
            "tags": []
          },
          "execution_count": 145
        }
      ]
    },
    {
      "cell_type": "code",
      "metadata": {
        "id": "niTVbbZt8uSU",
        "colab_type": "code",
        "colab": {
          "base_uri": "https://localhost:8080/",
          "height": 470
        },
        "outputId": "c55a0c38-6c4e-472f-d7ff-d3bfc7c72875"
      },
      "source": [
        "#Does the most popular station belong to that postal code?\n",
        "#Overall?\n",
        "c = df[(df['bluecar counter'] > 0 ) & (df['slots'] > 0) & (df['postal code'] == 75008)]\n",
        "d = c.groupby('public name').size().sort_values(ascending=False)\n",
        "d"
      ],
      "execution_count": 165,
      "outputs": [
        {
          "output_type": "execute_result",
          "data": {
            "text/plain": [
              "public name\n",
              "Paris/Rome/73              5\n",
              "Paris/Courcelles/69        4\n",
              "Paris/LiÃ¨ge/24            3\n",
              "Paris/Saint-HonorÃ©/161    3\n",
              "Paris/Monceau/43           3\n",
              "Paris/Haussmann/61         3\n",
              "Paris/Malesherbes/113      3\n",
              "Paris/Concorde/Parking     2\n",
              "Paris/Friedland/42         2\n",
              "Paris/Chateaubriand/19     2\n",
              "Paris/Saint-HonorÃ©/422    2\n",
              "Paris/Malesherbes/7        2\n",
              "Paris/Matignon/2           2\n",
              "Paris/Berri/10             2\n",
              "Paris/Saint-HonorÃ©/123    2\n",
              "Paris/Constantinople/4     1\n",
              "Paris/Astorg/11            1\n",
              "Paris/Saint-HonorÃ©/91     1\n",
              "Paris/Hoche/31             1\n",
              "Paris/Courcelles/40        1\n",
              "Paris/Francois 1er/7       1\n",
              "Paris/George V/44          1\n",
              "Paris/Messine/12           1\n",
              "Paris/Rome/46              1\n",
              "Paris/Artois/11            1\n",
              "dtype: int64"
            ]
          },
          "metadata": {
            "tags": []
          },
          "execution_count": 165
        }
      ]
    },
    {
      "cell_type": "code",
      "metadata": {
        "id": "xlnshj0MVJxF",
        "colab_type": "code",
        "colab": {
          "base_uri": "https://localhost:8080/",
          "height": 67
        },
        "outputId": "5eb28ce5-2652-4722-d74e-1b1d43c927a0"
      },
      "source": [
        "#What postal code is the most popular for picking up Blue cars? \n",
        "#Does the most popular station belong to that postal code?\n",
        "#At the most popular picking hour?\n",
        "c = df[(df['bluecar counter'] == 0 ) & (df['slots'] > 0) & (df['postal code'] == 75008) & (df['hour'] == 2)]\n",
        "d = c.groupby('public name').size().sort_values(ascending=False)\n",
        "d.head(1)"
      ],
      "execution_count": 147,
      "outputs": [
        {
          "output_type": "execute_result",
          "data": {
            "text/plain": [
              "public name\n",
              "Paris/Friedland/42    1\n",
              "dtype: int64"
            ]
          },
          "metadata": {
            "tags": []
          },
          "execution_count": 147
        }
      ]
    },
    {
      "cell_type": "markdown",
      "metadata": {
        "id": "o9ZuDx_iZXtq",
        "colab_type": "text"
      },
      "source": [
        "#  *Using Utilib*"
      ]
    },
    {
      "cell_type": "code",
      "metadata": {
        "id": "bzG6-3EoYvCB",
        "colab_type": "code",
        "colab": {
          "base_uri": "https://localhost:8080/",
          "height": 454
        },
        "outputId": "b3d3a69b-5b83-4e61-812f-56cac6f18b10"
      },
      "source": [
        "\n",
        "#popular_hr = df.groupby(['hour']).size().sort_values(ascending=False)\n",
        "#popular_hr\n",
        "x = df[(df['city']=='Paris') &\n",
        "    (df['month']==4) & (df['utilib counter'] == 0)]\n",
        "popular_hr = x.groupby(['hour']).size().sort_values(ascending=False)\n",
        "popular_hr"
      ],
      "execution_count": 148,
      "outputs": [
        {
          "output_type": "execute_result",
          "data": {
            "text/plain": [
              "hour\n",
              "21    140\n",
              "16    124\n",
              "3     120\n",
              "8     119\n",
              "9     117\n",
              "2     117\n",
              "12    115\n",
              "23    115\n",
              "10    114\n",
              "7     114\n",
              "6     112\n",
              "5     112\n",
              "19    111\n",
              "4     109\n",
              "13    108\n",
              "17    107\n",
              "20    107\n",
              "0     105\n",
              "15    105\n",
              "18    104\n",
              "22    103\n",
              "1     102\n",
              "14     99\n",
              "11     97\n",
              "dtype: int64"
            ]
          },
          "metadata": {
            "tags": []
          },
          "execution_count": 148
        }
      ]
    },
    {
      "cell_type": "code",
      "metadata": {
        "id": "wATzpmJeZr6s",
        "colab_type": "code",
        "colab": {
          "base_uri": "https://localhost:8080/",
          "height": 454
        },
        "outputId": "21a1525f-fba1-4aed-f262-7f1543e861a5"
      },
      "source": [
        "#Question 2;\n",
        "#What is the most popular hour for returning cars?\n",
        "y = df[(df['slots'] == 0) & (df['utilib counter'] > 0)]\n",
        "popular_hrcr = y.groupby(['hour']).size().sort_values(ascending=False)\n",
        "popular_hrcr"
      ],
      "execution_count": 149,
      "outputs": [
        {
          "output_type": "execute_result",
          "data": {
            "text/plain": [
              "hour\n",
              "5     11\n",
              "7     10\n",
              "22     8\n",
              "14     8\n",
              "6      7\n",
              "18     7\n",
              "1      7\n",
              "11     6\n",
              "19     6\n",
              "20     6\n",
              "13     5\n",
              "12     5\n",
              "3      5\n",
              "9      5\n",
              "21     5\n",
              "15     5\n",
              "2      4\n",
              "0      4\n",
              "8      4\n",
              "10     4\n",
              "17     4\n",
              "4      3\n",
              "16     3\n",
              "23     1\n",
              "dtype: int64"
            ]
          },
          "metadata": {
            "tags": []
          },
          "execution_count": 149
        }
      ]
    },
    {
      "cell_type": "code",
      "metadata": {
        "id": "xKKLP0d1Z9HM",
        "colab_type": "code",
        "colab": {
          "base_uri": "https://localhost:8080/",
          "height": 67
        },
        "outputId": "e2d355f6-a638-4733-f6fe-a99aaf548ded"
      },
      "source": [
        "#What station is the most popular?\n",
        "#Overall?\n",
        "#\n",
        "z = df[(df['kind'] == 'STATION') & (df['utilib counter'] == 0)]\n",
        "popular_stat = z.groupby(['public name']).size().sort_values(ascending=False)\n",
        "popular_stat.head(1)"
      ],
      "execution_count": 150,
      "outputs": [
        {
          "output_type": "execute_result",
          "data": {
            "text/plain": [
              "public name\n",
              "SÃ¨vres/WolfenbÃ¼ttel/1    11\n",
              "dtype: int64"
            ]
          },
          "metadata": {
            "tags": []
          },
          "execution_count": 150
        }
      ]
    },
    {
      "cell_type": "code",
      "metadata": {
        "id": "Wwcitty3Z9Sl",
        "colab_type": "code",
        "colab": {
          "base_uri": "https://localhost:8080/",
          "height": 218
        },
        "outputId": "32db52da-fba7-48ab-fffb-fd6e9752a930"
      },
      "source": [
        "#What station is the most popular?\n",
        "#at the most popular picking hour\n",
        "#\n",
        "y = z[(z['hour'] == 21)]\n",
        "b = y.groupby(['public name']).size().sort_values(ascending=False)\n",
        "b.head(10)"
      ],
      "execution_count": 151,
      "outputs": [
        {
          "output_type": "execute_result",
          "data": {
            "text/plain": [
              "public name\n",
              "Paris/Tronchet/19                     4\n",
              "Paris/Voltaire/182                    3\n",
              "Alfortville/Europe/22                 2\n",
              "Paris/Flandre/61                      2\n",
              "Paris/HÃ´pital/47                     2\n",
              "Paris/Reille/59                       2\n",
              "Paris/Belleville/22                   2\n",
              "ChÃ¢tenay-Malabry/Jean JaurÃ¨s/280    2\n",
              "Paris/Ãmile Reynaud/4                2\n",
              "Paris/Boulard/1                       2\n",
              "dtype: int64"
            ]
          },
          "metadata": {
            "tags": []
          },
          "execution_count": 151
        }
      ]
    },
    {
      "cell_type": "code",
      "metadata": {
        "id": "3sgT7M-dZ9Uw",
        "colab_type": "code",
        "colab": {
          "base_uri": "https://localhost:8080/",
          "height": 67
        },
        "outputId": "be92e451-3c5b-4dfa-d365-0355920b9314"
      },
      "source": [
        "#What postal code is the most popular for picking up Blue cars? \n",
        "#Does the most popular station belong to that postal code?\n",
        "#Overall?\n",
        "x = df[(df['utilib counter'] == 0 ) & (df['slots'] > 0)]\n",
        "pst = x.groupby('postal code').size().sort_values(ascending=False)\n",
        "pst.head(1)"
      ],
      "execution_count": 152,
      "outputs": [
        {
          "output_type": "execute_result",
          "data": {
            "text/plain": [
              "postal code\n",
              "75015    156\n",
              "dtype: int64"
            ]
          },
          "metadata": {
            "tags": []
          },
          "execution_count": 152
        }
      ]
    },
    {
      "cell_type": "code",
      "metadata": {
        "id": "VTcoc1ZWZ9bA",
        "colab_type": "code",
        "colab": {
          "base_uri": "https://localhost:8080/",
          "height": 907
        },
        "outputId": "b23c8b62-59de-421d-e91e-acc5fb3155aa"
      },
      "source": [
        "#Does the most popular station belong to that postal code?\n",
        "#Overall?\n",
        "c = df[(df['utilib counter'] == 0 ) & (df['slots'] > 0) & (df['postal code'] == 75015)]\n",
        "d = c.groupby('public name').size().sort_values(ascending=False)\n",
        "d"
      ],
      "execution_count": 166,
      "outputs": [
        {
          "output_type": "execute_result",
          "data": {
            "text/plain": [
              "public name\n",
              "Paris/Pasteur Montparnasse/Parking         7\n",
              "Paris/ArrivÃ©e/16                          6\n",
              "Paris/Convention/171                       5\n",
              "Paris/Finlay/43                            5\n",
              "Paris/Miollis/21                           5\n",
              "Paris/Lecourbe/178                         5\n",
              "Paris/Vaugirard/20                         5\n",
              "Paris/SÃ©bastien Mercier/44                4\n",
              "Paris/Ãmile Zola/143                      4\n",
              "Paris/Grenelle/37                          4\n",
              "Paris/Dantzig/80                           4\n",
              "Paris/Ãmile Duclaux/19                    4\n",
              "Paris/Morillons/95                         4\n",
              "Paris/Olier/15                             4\n",
              "Paris/Pasteur/41                           4\n",
              "Paris/Colonel Pierre Avia/1                4\n",
              "Paris/Suffren/161                          4\n",
              "Paris/Balard/108                           4\n",
              "Paris/Suffren/44                           4\n",
              "Paris/Commerce/5                           3\n",
              "Paris/HÃ©ricart/54                         3\n",
              "Paris/Cambronne/Parking                    3\n",
              "Paris/Cotentin/29                          3\n",
              "Paris/Dantzig/37                           3\n",
              "Paris/Etienne Pernet/26                    3\n",
              "Paris/FÃ©lix Faure/109                     3\n",
              "Paris/Houdart de Lamotte/2                 3\n",
              "Paris/Ãmile Zola/65                       3\n",
              "Paris/Mademoiselle/22                      3\n",
              "Paris/Suffren/2                            3\n",
              "Paris/Paul Barruel/44                      3\n",
              "Paris/Lourmel/33                           3\n",
              "Paris/Mademoiselle/67                      2\n",
              "Paris/Balard/18                            2\n",
              "Paris/Olivier de Serres/3                  2\n",
              "Paris/Vaugirard/230                        2\n",
              "Paris/Convention/75                        2\n",
              "Paris/Croix Nivert/192                     2\n",
              "Paris/Suffren/78                           2\n",
              "Paris/Emile Zola/6                         2\n",
              "Paris/Lourmel/79                           2\n",
              "Paris/VouillÃ©/47                          2\n",
              "Paris/Gerbert/11                           2\n",
              "Paris/Lecourbe/63                          2\n",
              "Paris/Jean Sicard/1                        1\n",
              "Paris/Maine/4                              1\n",
              "Paris/FÃ©dÃ©ration/10                      1\n",
              "Paris/Suffren/112                          1\n",
              "Paris/Lecourbe Mairie du XVÃ¨me/Parking    1\n",
              "Paris/Leblanc/19                           1\n",
              "Paris/Lacordaire/56                        1\n",
              "dtype: int64"
            ]
          },
          "metadata": {
            "tags": []
          },
          "execution_count": 166
        }
      ]
    },
    {
      "cell_type": "code",
      "metadata": {
        "id": "1907od69Z9cw",
        "colab_type": "code",
        "colab": {
          "base_uri": "https://localhost:8080/",
          "height": 67
        },
        "outputId": "2c6eda6d-579d-489b-90c6-2813cb4a73cf"
      },
      "source": [
        "#What postal code is the most popular for picking up Blue cars? \n",
        "#Does the most popular station belong to that postal code?\n",
        "#At the most popular picking hour?\n",
        "c = df[(df['utilib counter'] == 0 ) & (df['slots'] > 0) & (df['postal code'] == 75015) & (df['hour'] == 21)]\n",
        "d = c.groupby('public name').size().sort_values(ascending=False)\n",
        "d.head(1)"
      ],
      "execution_count": 155,
      "outputs": [
        {
          "output_type": "execute_result",
          "data": {
            "text/plain": [
              "public name\n",
              "Paris/SÃ©bastien Mercier/44    1\n",
              "dtype: int64"
            ]
          },
          "metadata": {
            "tags": []
          },
          "execution_count": 155
        }
      ]
    },
    {
      "cell_type": "markdown",
      "metadata": {
        "id": "c2-FoxBnaoWi",
        "colab_type": "text"
      },
      "source": [
        "#  *Using Utilib 1.4*"
      ]
    },
    {
      "cell_type": "code",
      "metadata": {
        "id": "2-e0Kx7oZ9jA",
        "colab_type": "code",
        "colab": {
          "base_uri": "https://localhost:8080/",
          "height": 454
        },
        "outputId": "6d663873-72fd-4d1a-cf89-4984ea216d27"
      },
      "source": [
        "\n",
        "#popular_hr = df.groupby(['hour']).size().sort_values(ascending=False)\n",
        "#popular_hr\n",
        "x = df[(df['city']=='Paris') &\n",
        "    (df['month']==4) & (df['utilib 1.4'] == 0)]\n",
        "popular_hr = x.groupby(['hour']).size().sort_values(ascending=False)\n",
        "popular_hr"
      ],
      "execution_count": 156,
      "outputs": [
        {
          "output_type": "execute_result",
          "data": {
            "text/plain": [
              "hour\n",
              "21    129\n",
              "8     120\n",
              "2     116\n",
              "16    115\n",
              "3     112\n",
              "7     112\n",
              "6     110\n",
              "12    108\n",
              "23    107\n",
              "10    105\n",
              "9     104\n",
              "13    103\n",
              "4     102\n",
              "5     101\n",
              "0     101\n",
              "17    101\n",
              "18    101\n",
              "20    101\n",
              "19     99\n",
              "15     98\n",
              "11     97\n",
              "14     96\n",
              "1      94\n",
              "22     91\n",
              "dtype: int64"
            ]
          },
          "metadata": {
            "tags": []
          },
          "execution_count": 156
        }
      ]
    },
    {
      "cell_type": "code",
      "metadata": {
        "id": "S1sSGXGmawGf",
        "colab_type": "code",
        "colab": {
          "base_uri": "https://localhost:8080/",
          "height": 454
        },
        "outputId": "a4cca6c7-653c-44d3-b3a6-8ef29efc9d41"
      },
      "source": [
        "#Question 2;\n",
        "#What is the most popular hour for returning cars?\n",
        "y = df[(df['slots'] == 0) & (df['utilib 1.4'] > 0)]\n",
        "popular_hrcr = y.groupby(['hour']).size().sort_values(ascending=False)\n",
        "popular_hrcr"
      ],
      "execution_count": 157,
      "outputs": [
        {
          "output_type": "execute_result",
          "data": {
            "text/plain": [
              "hour\n",
              "3     19\n",
              "5     17\n",
              "9     16\n",
              "22    15\n",
              "21    13\n",
              "14    13\n",
              "6     13\n",
              "7     13\n",
              "20    12\n",
              "19    12\n",
              "10    12\n",
              "4     11\n",
              "17    11\n",
              "15    11\n",
              "1      9\n",
              "0      9\n",
              "12     9\n",
              "2      9\n",
              "16     9\n",
              "18     9\n",
              "13     8\n",
              "11     6\n",
              "8      6\n",
              "23     4\n",
              "dtype: int64"
            ]
          },
          "metadata": {
            "tags": []
          },
          "execution_count": 157
        }
      ]
    },
    {
      "cell_type": "code",
      "metadata": {
        "id": "ZyVArzdFawNX",
        "colab_type": "code",
        "colab": {
          "base_uri": "https://localhost:8080/",
          "height": 67
        },
        "outputId": "95222cd9-fc6e-4dc7-c46e-70dac27f1011"
      },
      "source": [
        "#What station is the most popular?\n",
        "#Overall?\n",
        "#\n",
        "z = df[(df['kind'] == 'STATION') & (df['utilib 1.4'] == 0)]\n",
        "popular_stat = z.groupby(['public name']).size().sort_values(ascending=False)\n",
        "popular_stat.head(1)"
      ],
      "execution_count": 158,
      "outputs": [
        {
          "output_type": "execute_result",
          "data": {
            "text/plain": [
              "public name\n",
              "Paris/Voltaire/182    11\n",
              "dtype: int64"
            ]
          },
          "metadata": {
            "tags": []
          },
          "execution_count": 158
        }
      ]
    },
    {
      "cell_type": "code",
      "metadata": {
        "id": "_WG_lIB3awUA",
        "colab_type": "code",
        "colab": {
          "base_uri": "https://localhost:8080/",
          "height": 218
        },
        "outputId": "3e637244-2602-4f84-da66-944fd4671c40"
      },
      "source": [
        "#What station is the most popular?\n",
        "#at the most popular picking hour\n",
        "#\n",
        "y = z[(z['hour'] == 21)]\n",
        "b = y.groupby(['public name']).size().sort_values(ascending=False)\n",
        "b.head(10)"
      ],
      "execution_count": 159,
      "outputs": [
        {
          "output_type": "execute_result",
          "data": {
            "text/plain": [
              "public name\n",
              "Paris/Tronchet/19                     4\n",
              "Paris/Voltaire/182                    3\n",
              "Alfortville/Europe/22                 2\n",
              "Paris/Ãmile Reynaud/4                2\n",
              "Paris/Pernety/46                      2\n",
              "Paris/Picpus/122                      2\n",
              "Nanterre/Pablo Neruda/6               2\n",
              "Paris/Reille/59                       2\n",
              "Paris/HÃ´pital/47                     2\n",
              "ChÃ¢tenay-Malabry/Jean JaurÃ¨s/280    2\n",
              "dtype: int64"
            ]
          },
          "metadata": {
            "tags": []
          },
          "execution_count": 159
        }
      ]
    },
    {
      "cell_type": "code",
      "metadata": {
        "id": "p3w2CnaOawZy",
        "colab_type": "code",
        "colab": {
          "base_uri": "https://localhost:8080/",
          "height": 67
        },
        "outputId": "51f3f328-41a3-4939-f8b9-b01e01d6d2d8"
      },
      "source": [
        "#What postal code is the most popular for picking up Blue cars? \n",
        "#Does the most popular station belong to that postal code?\n",
        "#Overall?\n",
        "x = df[(df['utilib 1.4'] == 0 ) & (df['slots'] > 0)]\n",
        "pst = x.groupby('postal code').size().sort_values(ascending=False)\n",
        "pst.head(1)"
      ],
      "execution_count": 160,
      "outputs": [
        {
          "output_type": "execute_result",
          "data": {
            "text/plain": [
              "postal code\n",
              "75015    150\n",
              "dtype: int64"
            ]
          },
          "metadata": {
            "tags": []
          },
          "execution_count": 160
        }
      ]
    },
    {
      "cell_type": "code",
      "metadata": {
        "id": "GLzpCgPsaweL",
        "colab_type": "code",
        "colab": {
          "base_uri": "https://localhost:8080/",
          "height": 134
        },
        "outputId": "579e0d3a-0b1a-470e-c68e-3e9866c90f16"
      },
      "source": [
        "#Does the most popular station belong to that postal code?\n",
        "#Overall?\n",
        "c = df[(df['utilib 1.4'] == 0 ) & (df['slots'] > 0) & (df['postal code'] == 75015)]\n",
        "d = c.groupby('public name').size().sort_values(ascending=False)\n",
        "d.head()"
      ],
      "execution_count": 161,
      "outputs": [
        {
          "output_type": "execute_result",
          "data": {
            "text/plain": [
              "public name\n",
              "Paris/ArrivÃ©e/16                     7\n",
              "Paris/Pasteur Montparnasse/Parking    7\n",
              "Paris/Balard/108                      6\n",
              "Paris/Miollis/21                      6\n",
              "Paris/Suffren/161                     5\n",
              "dtype: int64"
            ]
          },
          "metadata": {
            "tags": []
          },
          "execution_count": 161
        }
      ]
    },
    {
      "cell_type": "code",
      "metadata": {
        "id": "bkPjA5BxawYc",
        "colab_type": "code",
        "colab": {
          "base_uri": "https://localhost:8080/",
          "height": 67
        },
        "outputId": "5336b52b-ba7c-48d4-a3c0-46c79cfaae32"
      },
      "source": [
        "#What postal code is the most popular for picking up Blue cars? \n",
        "#Does the most popular station belong to that postal code?\n",
        "#At the most popular picking hour?\n",
        "c = df[(df['utilib 1.4'] == 0 ) & (df['slots'] > 0) & (df['postal code'] == 75015) & (df['hour'] == 21)]\n",
        "d = c.groupby('public name').size().sort_values(ascending=False)\n",
        "d.head(1)"
      ],
      "execution_count": 162,
      "outputs": [
        {
          "output_type": "execute_result",
          "data": {
            "text/plain": [
              "public name\n",
              "Paris/SÃ©bastien Mercier/44    1\n",
              "dtype: int64"
            ]
          },
          "metadata": {
            "tags": []
          },
          "execution_count": 162
        }
      ]
    }
  ]
}